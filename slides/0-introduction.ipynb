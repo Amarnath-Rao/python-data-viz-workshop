{
 "cells": [
  {
   "cell_type": "markdown",
   "id": "47fb7ec4-7388-4138-9a38-864091d727f5",
   "metadata": {
    "slideshow": {
     "slide_type": "skip"
    },
    "tags": []
   },
   "source": [
    "[![View slides in browser](https://img.shields.io/badge/view-slides-orange?logo=reveal.js&logoColor=white)](https://stefmolin.github.io/python-data-viz-workshop/slides/html/workshop.slides.html)\n",
    "\n",
    "---"
   ]
  },
  {
   "cell_type": "markdown",
   "id": "8b7dfb40-1ef0-4621-89c3-87c5b226c023",
   "metadata": {
    "slideshow": {
     "slide_type": "slide"
    },
    "tags": [
     "id_intro"
    ]
   },
   "source": [
    "# Beyond the Basics: Data Visualization in Python\n",
    "\n",
    "### Amarnath Rao"
   ]
  },
  {
   "cell_type": "markdown",
   "id": "d4e1f7fe-9777-477f-b361-08e448f03af7",
   "metadata": {
    "slideshow": {
     "slide_type": "subslide"
    },
    "tags": [
     "id_bio"
    ]
   },
   "source": [
    "## Bio\n",
    "\n",
    "-Workshop \n",
    "- SSR"
   ]
  },
  {
   "cell_type": "markdown",
   "id": "0345e6e4-5c39-4c57-96d5-4b3980fe2e67",
   "metadata": {
    "slideshow": {
     "slide_type": "slide"
    },
    "tags": [
     "id_prerequisites"
    ]
   },
   "source": [
    "### Prerequisites\n",
    "- To follow along with this workshop, you will need to either configure a local environment or use a cloud solution like GitHub Codespaces. Consult the [README](https://github.com/amarnath-rao/python-data-viz-workshop#setup-instructions) for step-by-step setup instructions.\n",
    "- In addition, you should have basic knowledge of Python and be comfortable working in Jupyter Notebooks; if not, check out the resources [here](https://github.com/amarnath-rao/python-data-viz-workshop#prerequisites) to get up to speed."
   ]
  },
  {
   "cell_type": "markdown",
   "id": "6134e4a8-f4c8-4698-b970-d2e83ea9d922",
   "metadata": {
    "slideshow": {
     "slide_type": "slide"
    },
    "tags": [
     "id_session-outline"
    ]
   },
   "source": [
    "### Session Outline\n",
    "1. Getting Started With Matplotlib\n",
    "2. Moving Beyond Static Visualizations\n",
    "3. Building Interactive Visualizations for Data Exploration"
   ]
  },
  {
   "cell_type": "markdown",
   "id": "def73df3-56b3-45a1-a157-2bb3488abef9",
   "metadata": {
    "slideshow": {
     "slide_type": "slide"
    },
    "tags": [
     "id_follow-along"
    ]
   },
   "source": [
    "## Let's get started\n",
    "\n",
    "*Be sure to follow along in the [notebooks](https://github.com/amarnath-rao/python-data-viz-workshop/tree/main/notebooks).*\n",
    "\n",
    "<img width=\"30%\" src=\"https://images.unsplash.com/photo-1496147956370-9486a6fc2208?ixid=MnwxMjA3fDB8MHxwaG90by1wYWdlfHx8fGVufDB8fHx8&ixlib=rb-1.2.1&auto=format&fit=crop&w=1974&q=80\" alt=\"Swan and cygnets\" style=\"min-width: 300px\">"
   ]
  }
 ],
 "metadata": {
  "kernelspec": {
   "display_name": "Python 3 (ipykernel)",
   "language": "python",
   "name": "python3"
  },
  "language_info": {
   "codemirror_mode": {
    "name": "ipython",
    "version": 3
   },
   "file_extension": ".py",
   "mimetype": "text/x-python",
   "name": "python",
   "nbconvert_exporter": "python",
   "pygments_lexer": "ipython3",
   "version": "3.10.10"
  }
 },
 "nbformat": 4,
 "nbformat_minor": 5
}
