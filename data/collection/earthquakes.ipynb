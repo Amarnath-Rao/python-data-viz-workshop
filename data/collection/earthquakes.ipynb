{
 "cells": [
  {
   "cell_type": "markdown",
   "id": "e1c3f429-1743-4eb9-8ead-c6a32122b48e",
   "metadata": {},
   "source": [
    "# Earthquake Data Collection\n",
    "\n",
    "The following code was used to collect the earthquake data from the [USGS Earthquake API](https://earthquake.usgs.gov/fdsnws/event/1/):"
   ]
  },
  {
   "cell_type": "code",
   "execution_count": 1,
   "id": "ecaf7a2c-9803-451d-830d-4b455bc07914",
   "metadata": {},
   "outputs": [
    {
     "name": "stdout",
     "output_type": "stream",
     "text": [
      "Request 10 complete. Progress: 100.00%"
     ]
    }
   ],
   "source": [
    "import datetime as dt\n",
    "import itertools\n",
    "import requests\n",
    "\n",
    "api = 'https://earthquake.usgs.gov/fdsnws/event/1/{}'\n",
    "payload = {\n",
    "    'format': 'geojson',\n",
    "    'starttime': dt.datetime(2020, 1, 1),\n",
    "    'endtime': dt.datetime(2021, 1, 1),\n",
    "    'eventtype': 'earthquake'\n",
    "}\n",
    "\n",
    "response = requests.get(api.format('count'), params=payload)\n",
    "\n",
    "if response.ok:\n",
    "    count = response.json()['count']\n",
    "    offset = 1\n",
    "    earthquakes = []\n",
    "    request_count = itertools.count(1)\n",
    "    while offset < count:\n",
    "        response = requests.get(\n",
    "            api.format('query'), \n",
    "            params={\n",
    "                **payload, **{\n",
    "                    'limit': 20_000,\n",
    "                    'orderby': 'time-asc',\n",
    "                    'offset': offset\n",
    "                }\n",
    "            }\n",
    "        )\n",
    "        if not response.ok:\n",
    "            print(f'Request failed with status {response.status_code}')\n",
    "            break\n",
    "        results = response.json()\n",
    "        earthquakes.extend(results['features'])\n",
    "        offset += results['metadata']['count']\n",
    "\n",
    "        print(\n",
    "            f'\\rRequest {next(request_count)} complete. Progress: {(offset - 1)/count:.2%}',\n",
    "            end=''\n",
    "        )"
   ]
  },
  {
   "cell_type": "markdown",
   "id": "12422047-d3da-463b-be3b-d46a13a87946",
   "metadata": {
    "tags": []
   },
   "source": [
    "## Generating the `earthquakes.geojson` file\n",
    "\n",
    "The GeoJSON format provides the `geometry` field, which we will use with GeoViews in the workshop. A single record from the API looks like this:"
   ]
  },
  {
   "cell_type": "code",
   "execution_count": 2,
   "id": "f16450ee-da8d-49d7-87e5-d1ed17d66a55",
   "metadata": {},
   "outputs": [
    {
     "data": {
      "text/plain": [
       "{'type': 'Feature',\n",
       " 'properties': {'mag': 2.75,\n",
       "  'place': '80 km N of Isabela, Puerto Rico',\n",
       "  'time': 1577836916590,\n",
       "  'updated': 1577988904335,\n",
       "  'tz': None,\n",
       "  'url': 'https://earthquake.usgs.gov/earthquakes/eventpage/pr2020001021',\n",
       "  'detail': 'https://earthquake.usgs.gov/fdsnws/event/1/query?eventid=pr2020001021&format=geojson',\n",
       "  'felt': None,\n",
       "  'cdi': None,\n",
       "  'mmi': None,\n",
       "  'alert': None,\n",
       "  'status': 'reviewed',\n",
       "  'tsunami': 0,\n",
       "  'sig': 116,\n",
       "  'net': 'pr',\n",
       "  'code': '2020001021',\n",
       "  'ids': ',pr2020001021,',\n",
       "  'sources': ',pr,',\n",
       "  'types': ',origin,phase-data,',\n",
       "  'nst': 3,\n",
       "  'dmin': 0.7502,\n",
       "  'rms': 0.45,\n",
       "  'gap': 358,\n",
       "  'magType': 'md',\n",
       "  'type': 'earthquake',\n",
       "  'title': 'M 2.8 - 80 km N of Isabela, Puerto Rico'},\n",
       " 'geometry': {'type': 'Point', 'coordinates': [-67.1275, 19.2175, 12]},\n",
       " 'id': 'pr2020001021'}"
      ]
     },
     "execution_count": 2,
     "metadata": {},
     "output_type": "execute_result"
    }
   ],
   "source": [
    "earthquakes[0]"
   ]
  },
  {
   "cell_type": "markdown",
   "id": "c4602986-5fcc-4c7e-affe-d8c3b61e1da8",
   "metadata": {},
   "source": [
    "Using GeoPandas, we can work with this like a pandas DataFrame:"
   ]
  },
  {
   "cell_type": "code",
   "execution_count": 3,
   "id": "f2a26f2c-9f5a-4ad0-bb4a-34589fcceecb",
   "metadata": {},
   "outputs": [
    {
     "data": {
      "text/html": [
       "<div>\n",
       "<style scoped>\n",
       "    .dataframe tbody tr th:only-of-type {\n",
       "        vertical-align: middle;\n",
       "    }\n",
       "\n",
       "    .dataframe tbody tr th {\n",
       "        vertical-align: top;\n",
       "    }\n",
       "\n",
       "    .dataframe thead th {\n",
       "        text-align: right;\n",
       "    }\n",
       "</style>\n",
       "<table border=\"1\" class=\"dataframe\">\n",
       "  <thead>\n",
       "    <tr style=\"text-align: right;\">\n",
       "      <th></th>\n",
       "      <th>geometry</th>\n",
       "      <th>mag</th>\n",
       "      <th>place</th>\n",
       "      <th>time</th>\n",
       "      <th>tsunami</th>\n",
       "      <th>magType</th>\n",
       "    </tr>\n",
       "  </thead>\n",
       "  <tbody>\n",
       "    <tr>\n",
       "      <th>0</th>\n",
       "      <td>POINT Z (-67.12750 19.21750 12.00000)</td>\n",
       "      <td>2.75</td>\n",
       "      <td>80 km N of Isabela, Puerto Rico</td>\n",
       "      <td>1577836916590</td>\n",
       "      <td>0</td>\n",
       "      <td>md</td>\n",
       "    </tr>\n",
       "    <tr>\n",
       "      <th>1</th>\n",
       "      <td>POINT Z (-67.09010 19.07660 6.00000)</td>\n",
       "      <td>2.55</td>\n",
       "      <td>64 km N of Isabela, Puerto Rico</td>\n",
       "      <td>1577837018210</td>\n",
       "      <td>0</td>\n",
       "      <td>md</td>\n",
       "    </tr>\n",
       "    <tr>\n",
       "      <th>2</th>\n",
       "      <td>POINT Z (-66.85410 17.87050 6.00000)</td>\n",
       "      <td>1.81</td>\n",
       "      <td>12 km SSE of Maria Antonia, Puerto Rico</td>\n",
       "      <td>1577837109440</td>\n",
       "      <td>0</td>\n",
       "      <td>md</td>\n",
       "    </tr>\n",
       "    <tr>\n",
       "      <th>3</th>\n",
       "      <td>POINT Z (-66.86360 17.89930 8.00000)</td>\n",
       "      <td>1.84</td>\n",
       "      <td>9 km SSE of Maria Antonia, Puerto Rico</td>\n",
       "      <td>1577837136930</td>\n",
       "      <td>0</td>\n",
       "      <td>md</td>\n",
       "    </tr>\n",
       "    <tr>\n",
       "      <th>4</th>\n",
       "      <td>POINT Z (-66.86850 17.90660 8.00000)</td>\n",
       "      <td>1.64</td>\n",
       "      <td>8 km SSE of Maria Antonia, Puerto Rico</td>\n",
       "      <td>1577837360060</td>\n",
       "      <td>0</td>\n",
       "      <td>md</td>\n",
       "    </tr>\n",
       "  </tbody>\n",
       "</table>\n",
       "</div>"
      ],
      "text/plain": [
       "                                geometry   mag  \\\n",
       "0  POINT Z (-67.12750 19.21750 12.00000)  2.75   \n",
       "1   POINT Z (-67.09010 19.07660 6.00000)  2.55   \n",
       "2   POINT Z (-66.85410 17.87050 6.00000)  1.81   \n",
       "3   POINT Z (-66.86360 17.89930 8.00000)  1.84   \n",
       "4   POINT Z (-66.86850 17.90660 8.00000)  1.64   \n",
       "\n",
       "                                     place           time  tsunami magType  \n",
       "0          80 km N of Isabela, Puerto Rico  1577836916590        0      md  \n",
       "1          64 km N of Isabela, Puerto Rico  1577837018210        0      md  \n",
       "2  12 km SSE of Maria Antonia, Puerto Rico  1577837109440        0      md  \n",
       "3   9 km SSE of Maria Antonia, Puerto Rico  1577837136930        0      md  \n",
       "4   8 km SSE of Maria Antonia, Puerto Rico  1577837360060        0      md  "
      ]
     },
     "execution_count": 3,
     "metadata": {},
     "output_type": "execute_result"
    }
   ],
   "source": [
    "import geopandas as gpd\n",
    "\n",
    "gdf = gpd.GeoDataFrame.from_features(\n",
    "    earthquakes, columns=['geometry', 'mag', 'place', 'time', 'tsunami', 'magType']\n",
    ")\n",
    "gdf.head()"
   ]
  },
  {
   "cell_type": "markdown",
   "id": "f64d3e0e-3407-42a8-8558-636af91d83e2",
   "metadata": {},
   "source": [
    "**Warning**: The earthquake data is frequently updated (even for past events). If you run this cell, your results may be different.\n",
    "\n",
    "---\n",
    "\n",
    "Save to a GeoJSON file for use later:"
   ]
  },
  {
   "cell_type": "code",
   "execution_count": 4,
   "id": "09889e67-82de-47a1-afd8-d9f937bbea16",
   "metadata": {},
   "outputs": [],
   "source": [
    "gdf.to_file('../earthquakes.geojson', driver='GeoJSON')"
   ]
  }
 ],
 "metadata": {
  "kernelspec": {
   "display_name": "Python 3 (ipykernel)",
   "language": "python",
   "name": "python3"
  },
  "language_info": {
   "codemirror_mode": {
    "name": "ipython",
    "version": 3
   },
   "file_extension": ".py",
   "mimetype": "text/x-python",
   "name": "python",
   "nbconvert_exporter": "python",
   "pygments_lexer": "ipython3",
   "version": "3.8.12"
  }
 },
 "nbformat": 4,
 "nbformat_minor": 5
}
