{
 "cells": [
  {
   "cell_type": "markdown",
   "id": "47314afc-75b5-4963-b71e-a195a852ba5d",
   "metadata": {
    "slideshow": {
     "slide_type": "subslide"
    },
    "tags": []
   },
   "source": [
    "# NYC Subway Data File Creation\n",
    "\n",
    "The following code was used to create the NYC subway dataset used in the training as a condensed form of the dataset provided by by Kaggle user [Edden](https://www.kaggle.com/eddeng). The original dataset contains NYC subway entrances and exits every four hours from 2017-2021 (partial data for 2021) and was created through some extensive data wrangling. The data can be viewed on Kaggle [here](https://www.kaggle.com/eddeng/nyc-subway-traffic-data-20172021?select=NYC_subway_traffic_2017-2021.csv).\n",
    "\n",
    "**IMPORTANT**: The code below assumes that you have downloaded the dataset from Kaggle and have it saved as `NYC_subway_traffic_2017-2021.zip` in the `data/` directory of this repository. This file is too large to be included in the repository, so you must download it yourself if you want to run this notebook.\n",
    "\n",
    "### Calculate daily entries and exits per borough"
   ]
  },
  {
   "cell_type": "code",
   "execution_count": 1,
   "id": "2316415a-ffc6-438b-9e98-4f2798ebee41",
   "metadata": {},
   "outputs": [
    {
     "data": {
      "text/html": [
       "<div>\n",
       "<style scoped>\n",
       "    .dataframe tbody tr th:only-of-type {\n",
       "        vertical-align: middle;\n",
       "    }\n",
       "\n",
       "    .dataframe tbody tr th {\n",
       "        vertical-align: top;\n",
       "    }\n",
       "\n",
       "    .dataframe thead th {\n",
       "        text-align: right;\n",
       "    }\n",
       "</style>\n",
       "<table border=\"1\" class=\"dataframe\">\n",
       "  <thead>\n",
       "    <tr style=\"text-align: right;\">\n",
       "      <th></th>\n",
       "      <th>Borough</th>\n",
       "      <th>Entries</th>\n",
       "      <th>Exits</th>\n",
       "    </tr>\n",
       "    <tr>\n",
       "      <th>Datetime</th>\n",
       "      <th></th>\n",
       "      <th></th>\n",
       "      <th></th>\n",
       "    </tr>\n",
       "  </thead>\n",
       "  <tbody>\n",
       "    <tr>\n",
       "      <th>2017-08-01</th>\n",
       "      <td>Bx</td>\n",
       "      <td>431733.0</td>\n",
       "      <td>261192.0</td>\n",
       "    </tr>\n",
       "    <tr>\n",
       "      <th>2019-10-26</th>\n",
       "      <td>Bk</td>\n",
       "      <td>688439.0</td>\n",
       "      <td>540773.0</td>\n",
       "    </tr>\n",
       "    <tr>\n",
       "      <th>2017-12-23</th>\n",
       "      <td>M</td>\n",
       "      <td>1394175.0</td>\n",
       "      <td>1197885.0</td>\n",
       "    </tr>\n",
       "    <tr>\n",
       "      <th>2021-06-18</th>\n",
       "      <td>M</td>\n",
       "      <td>936275.0</td>\n",
       "      <td>1161266.0</td>\n",
       "    </tr>\n",
       "    <tr>\n",
       "      <th>2021-05-12</th>\n",
       "      <td>Q</td>\n",
       "      <td>315675.0</td>\n",
       "      <td>301401.0</td>\n",
       "    </tr>\n",
       "    <tr>\n",
       "      <th>2017-04-03</th>\n",
       "      <td>M</td>\n",
       "      <td>2883962.0</td>\n",
       "      <td>2312674.0</td>\n",
       "    </tr>\n",
       "    <tr>\n",
       "      <th>2020-03-21</th>\n",
       "      <td>M</td>\n",
       "      <td>244562.0</td>\n",
       "      <td>262075.0</td>\n",
       "    </tr>\n",
       "    <tr>\n",
       "      <th>2021-05-02</th>\n",
       "      <td>Bx</td>\n",
       "      <td>88745.0</td>\n",
       "      <td>93133.0</td>\n",
       "    </tr>\n",
       "    <tr>\n",
       "      <th>2019-10-27</th>\n",
       "      <td>M</td>\n",
       "      <td>1255688.0</td>\n",
       "      <td>1106617.0</td>\n",
       "    </tr>\n",
       "    <tr>\n",
       "      <th>2021-07-27</th>\n",
       "      <td>Bx</td>\n",
       "      <td>183354.0</td>\n",
       "      <td>173973.0</td>\n",
       "    </tr>\n",
       "  </tbody>\n",
       "</table>\n",
       "</div>"
      ],
      "text/plain": [
       "           Borough    Entries      Exits\n",
       "Datetime                                \n",
       "2017-08-01      Bx   431733.0   261192.0\n",
       "2019-10-26      Bk   688439.0   540773.0\n",
       "2017-12-23       M  1394175.0  1197885.0\n",
       "2021-06-18       M   936275.0  1161266.0\n",
       "2021-05-12       Q   315675.0   301401.0\n",
       "2017-04-03       M  2883962.0  2312674.0\n",
       "2020-03-21       M   244562.0   262075.0\n",
       "2021-05-02      Bx    88745.0    93133.0\n",
       "2019-10-27       M  1255688.0  1106617.0\n",
       "2021-07-27      Bx   183354.0   173973.0"
      ]
     },
     "execution_count": 1,
     "metadata": {},
     "output_type": "execute_result"
    }
   ],
   "source": [
    "import pandas as pd\n",
    "\n",
    "subway = pd.read_csv('../NYC_subway_traffic_2017-2021.zip', parse_dates=['Datetime'])\n",
    "subway_daily = subway.set_index('Datetime').groupby('Borough')\\\n",
    "    .resample('1D')[['Entries', 'Exits']].sum().reset_index(level=0)\n",
    "subway_daily.sample(10, random_state=0)"
   ]
  },
  {
   "cell_type": "markdown",
   "id": "7da67c7e-d2d8-4fbd-a709-7296bf09bab3",
   "metadata": {},
   "source": [
    "Save as CSV file:"
   ]
  },
  {
   "cell_type": "code",
   "execution_count": 2,
   "id": "04f8bde5-d783-4d64-9177-fd929036859c",
   "metadata": {},
   "outputs": [],
   "source": [
    "subway_daily.to_csv('../NYC_subway_daily.csv')"
   ]
  }
 ],
 "metadata": {
  "kernelspec": {
   "display_name": "Python 3 (ipykernel)",
   "language": "python",
   "name": "python3"
  },
  "language_info": {
   "codemirror_mode": {
    "name": "ipython",
    "version": 3
   },
   "file_extension": ".py",
   "mimetype": "text/x-python",
   "name": "python",
   "nbconvert_exporter": "python",
   "pygments_lexer": "ipython3",
   "version": "3.8.12"
  }
 },
 "nbformat": 4,
 "nbformat_minor": 5
}
