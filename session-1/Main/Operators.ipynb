{
 "cells": [
  {
   "cell_type": "markdown",
   "metadata": {},
   "source": [
    "# Operators in Python\n",
    " Operators in Python are special symbols that carry out arithmetic or logical computation."
   ]
  },
  {
   "cell_type": "markdown",
   "metadata": {},
   "source": [
    "## Arithmetic operators"
   ]
  },
  {
   "cell_type": "markdown",
   "metadata": {},
   "source": [
    "Arithmetic operators are used to perform mathematical operations.\n",
    "\n",
    "| Operator | Operation |\n",
    "|--------| :-------|\n",
    "|+\t| Add two operands |\n",
    "| -\t| Subtract right operand from the left|\n",
    "|* |\tMultiply two operands|\n",
    "| / |\tDivision operator|\n",
    "|% |\tModulus opeartor|\t\n",
    "|// |\tFloor division |\n",
    "|** |\tExponent - left operand raised to the power of right|"
   ]
  },
  {
   "cell_type": "code",
   "execution_count": null,
   "metadata": {},
   "outputs": [],
   "source": [
    "x = 10\n",
    "y = 3\n",
    "\n",
    "\n",
    "print('x + y =',x+y)\n",
    "\n",
    "print('x - y =',x-y)\n",
    "\n",
    "print('x * y =',x*y)\n",
    "\n",
    "print('x / y =',x/y)\n",
    "\n",
    "print('x % y =',x%y)\n",
    "\n",
    "# Extra info: divmod(num1, num2) gives a tuple with (quotient, remainder)\n",
    "# print(divmod(x,y))\n",
    "\n",
    "#something new and useful\n",
    "print('x // y =',x//y)\n",
    "\n",
    "print('x ** y =',x**y)"
   ]
  },
  {
   "cell_type": "markdown",
   "metadata": {},
   "source": [
    "## Comparison operators\n",
    "Comparison operators are used to compare values. It either returns **True** or **False**.\n",
    "\n",
    "| Opeartor | Meaning |\n",
    "| ------| -------|\n",
    "|>|\tGreater than |\n",
    "|<\t|Less than | \n",
    "|==\t|Equal to |\n",
    "|!=\t|Not equal to |\n",
    "|>=\t|Greater than or equal to |\n",
    "|<=\t|Less than or equal to \n",
    "\n"
   ]
  },
  {
   "cell_type": "code",
   "execution_count": null,
   "metadata": {},
   "outputs": [],
   "source": [
    "x = 10\n",
    "y = 3\n",
    "\n",
    "\n",
    "print('x > y  is',x>y)\n",
    "\n",
    "print('x < y  is',x<y)\n",
    "\n",
    "print('x == y is',x==y)\n",
    "\n",
    "print('x != y is',x!=y)\n",
    "\n",
    "print('x >= y is',x>=y)\n",
    "\n",
    "print('x <= y is',x<=y)"
   ]
  },
  {
   "cell_type": "code",
   "execution_count": null,
   "metadata": {},
   "outputs": [],
   "source": [
    "x = 2\n",
    "\n",
    "print('1 < x < 3 is', 1 < x < 3)\n",
    "\n",
    "print('10 < x < 20 is', 10 < x < 20)\n",
    "\n",
    "print('3 > x <= 2 is', 3 > x <= 2)\n",
    "\n",
    "print('2 == x < 4 is', 2 == x < 4)\n",
    "\n",
    "print('2 == x > 4 is', 2 == x > 4)\n"
   ]
  },
  {
   "cell_type": "markdown",
   "metadata": {},
   "source": [
    "## Logical Operator\n",
    "| Operator | Meaning |\n",
    "|-------| -------|\n",
    "|and\t|True if both the operands are true\t|\n",
    "|or\t|True if either of the operands is true\t|\n",
    "|not |\tcomplements the operand|"
   ]
  },
  {
   "cell_type": "code",
   "execution_count": null,
   "metadata": {},
   "outputs": [],
   "source": [
    "x = True # x = 1\n",
    "y = False # y = 0\n",
    "\n",
    "\n",
    "print('x and y is',x and y)\n",
    "\n",
    "print('x or y is',x or y)\n",
    "\n",
    "print('not x is',not x)"
   ]
  },
  {
   "cell_type": "markdown",
   "metadata": {},
   "source": [
    "## Bitwise operator\n",
    "Bitwise operators operate bit by bit, hence the name.\n",
    "\n",
    "In the table below: Let x = 10 (0000 1010 in binary) and y = 4 (0000 0100 in binary)\n",
    "\n",
    "|Operator|\tMeaning|\tExample|\n",
    "|--------|----------|---------|\n",
    "|&\t|Bitwise AND|\tx& y = 0 (0000 0000)|\n",
    "||\t|Bitwise OR\t|x \\| y = 14 (0000 1110)|\n",
    "|~\t|Bitwise NOT|\t~x = -11 (1111 0101)|\n",
    "|^\t|Bitwise XOR|\tx ^ y = 14 (0000 1110)|\n",
    "|>>\t|Bitwise right shift|\tx>> 2 = 2 (0000 0010)|\n",
    "|<<\t|Bitwise left shift\t|x<< 2 = 40 (0010 1000)|"
   ]
  },
  {
   "cell_type": "markdown",
   "metadata": {},
   "source": [
    "# Assignment operators\n",
    "|Operator|\tExample\t|Equivatent to|\n",
    "|------|------|------|\n",
    "|=\t|x = 5\t|x = 5|\n",
    "|+=\t|x += 5\t|x = x + 5|\n",
    "|-=\t|x -= 5\t|x =x - 5|\n",
    "|*=\t|x *= 5\t|x = x * 5|\n",
    "|/=\t|x /= 5\t|x = x / 5|\n",
    "|%=\t|x %= 5\t|x = x % 5|\n",
    "|//=|\tx //= 5\t|x = x // 5|\n",
    "|**=|\tx **= 5\t|x = x ** 5|\n",
    "|&=\t|x &= 5\t|x = x & 5|\n",
    "|\\|=\t|x \\|= 5 | \tx = x \\| 5|\n",
    "|^=\t|x ^= 5\t|x = x ^ 5|\n",
    "|>>=|\tx >>= 5\t|x = x >> 5|\n",
    "|<<=|\tx <<= 5|\tx = x << 5|"
   ]
  },
  {
   "cell_type": "markdown",
   "metadata": {},
   "source": [
    "## Special operators: Identity operators and Membership Operator"
   ]
  },
  {
   "cell_type": "markdown",
   "metadata": {},
   "source": [
    "Membership operators: **in** and **not in**,\n",
    "Identity operators: **is** and **is not** \n",
    "\n",
    "**is** and **is not** are the identity operators in Python. They are used to check if two values (or variables) are located on the same part of the memory. Two variables that are equal does not imply that they are identical."
   ]
  },
  {
   "cell_type": "code",
   "execution_count": null,
   "metadata": {},
   "outputs": [],
   "source": [
    "# Membership Operator\n",
    "\n",
    "# True if the operands are identical (refer to the same object)\n",
    "\n",
    "x1 = 5\n",
    "y1 = 5\n",
    "\n",
    "\n",
    "a1 = 'Mumbai'\n",
    "a2 = 'Mumbai'\n",
    "\n",
    "list1 = [1,2,3]\n",
    "list2 = [1,2,3]\n",
    "\n",
    "# print(id(x1), id(y1))\n",
    "print(x1 is y1)\n",
    "\n",
    "\n",
    "print(a2 is a1)\n",
    "\n",
    "# print(id(list1), id(list2))\n",
    "print(list1 is list2)"
   ]
  },
  {
   "cell_type": "code",
   "execution_count": null,
   "metadata": {},
   "outputs": [],
   "source": [
    "# Membership Operator\n",
    "\n",
    "city = 'Bombay'\n",
    "list1 = [1, 2, 3, 4]\n",
    "\n",
    "\n",
    "print('H' not in city)\n",
    "\n",
    "print('Bom' in city)\n",
    "\n",
    "print(1 in list1)\n",
    "\n",
    "print([1, 2] in list1)\n",
    "\n",
    "print('ay' in list1)\n"
   ]
  },
  {
   "cell_type": "code",
   "execution_count": null,
   "metadata": {},
   "outputs": [],
   "source": []
  }
 ],
 "metadata": {
  "kernelspec": {
   "display_name": "Python 3",
   "language": "python",
   "name": "python3"
  },
  "language_info": {
   "codemirror_mode": {
    "name": "ipython",
    "version": 3
   },
   "file_extension": ".py",
   "mimetype": "text/x-python",
   "name": "python",
   "nbconvert_exporter": "python",
   "pygments_lexer": "ipython3",
   "version": "3.7.0"
  }
 },
 "nbformat": 4,
 "nbformat_minor": 2
}
