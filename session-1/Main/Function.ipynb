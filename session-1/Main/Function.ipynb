{
 "cells": [
  {
   "cell_type": "markdown",
   "metadata": {},
   "source": [
    "## Functions\n"
   ]
  },
  {
   "cell_type": "code",
   "execution_count": null,
   "metadata": {},
   "outputs": [],
   "source": [
    "# Structure of a Python function\n",
    "def function_name(parameters):\n",
    "    \"\"\"docstring\"\"\"\n",
    "    # statements\n",
    "    pass"
   ]
  },
  {
   "cell_type": "code",
   "execution_count": null,
   "metadata": {},
   "outputs": [],
   "source": [
    "# Basic function syntax\n",
    "def square(num):\n",
    "    \"\"\"This function prints square of a value\"\"\"\n",
    "    print(\"Square of\", num, \"is\", num**2)\n",
    "    \n",
    "square(5)"
   ]
  },
  {
   "cell_type": "code",
   "execution_count": null,
   "metadata": {},
   "outputs": [],
   "source": [
    "def power(num, exp):\n",
    "    ''' docstring'''\n",
    "    print(num**exp)\n",
    "    \n",
    "power(5,3)\n"
   ]
  },
  {
   "cell_type": "code",
   "execution_count": null,
   "metadata": {},
   "outputs": [],
   "source": [
    "def power(num, exp):\n",
    "    ''' docstring'''\n",
    "    return(num**exp)\n",
    "\n",
    "myvar = power(5,3)\n",
    "print(myvar)"
   ]
  },
  {
   "cell_type": "code",
   "execution_count": null,
   "metadata": {},
   "outputs": [],
   "source": [
    "def power(num, exp = 2):\n",
    "    ''' docstring'''\n",
    "    return(num**exp)\n",
    "\n",
    "myvar1 = power(5,3)\n",
    "myvar2 = power(5)\n",
    "print(myvar)\n",
    "print(myvar2)"
   ]
  },
  {
   "cell_type": "code",
   "execution_count": null,
   "metadata": {},
   "outputs": [],
   "source": [
    "def swap(num1, num2):\n",
    "    '''Swaps the values'''\n",
    "    return num2, num1\n",
    "\n",
    "x = 10\n",
    "y = 20\n",
    "\n",
    "x, y  = swap(x, y)\n",
    "print(\"x is \", x)\n",
    "print(\"y is \", y)"
   ]
  },
  {
   "cell_type": "code",
   "execution_count": null,
   "metadata": {},
   "outputs": [],
   "source": [
    "def my_func():\n",
    "    x = 10\n",
    "    print(\"Value inside function:\",x)\n",
    "\n",
    "x = 20\n",
    "my_func()\n",
    "print(\"Value outside function:\",x)"
   ]
  },
  {
   "cell_type": "code",
   "execution_count": null,
   "metadata": {},
   "outputs": [],
   "source": [
    "# Program make a simple calculator that can add, subtract, multiply and divide using functions\n",
    "\n",
    "# This function adds two numbers \n",
    "def add(x, y):\n",
    "    pass\n",
    "\n",
    "# This function subtracts two numbers \n",
    "def subtract(x, y):\n",
    "    pass\n",
    "\n",
    "# This function multiplies two numbers\n",
    "# add code for multiply\n",
    "    \n",
    "\n",
    "# This function divides two numbers\n",
    "# add code for divide\n",
    "\n",
    "print(\"Select operation.\")\n",
    "print(\"1.Add\")\n",
    "print(\"2.Subtract\")\n",
    "print(\"3.Multiply\")\n",
    "print(\"4.Divide\")\n",
    "\n",
    "# Take input from the user \n",
    "choice = input(\"Enter choice(1/2/3/4):\")\n",
    "\n",
    "num1 = int(input(\"Enter first number: \"))\n",
    "num2 = int(input(\"Enter second number: \"))\n",
    "\n",
    "if choice == '1':\n",
    "    print(num1,\"+\",num2,\"=\", add(num1,num2))\n",
    "\n",
    "elif choice == '2':\n",
    "    print(num1,\"-\",num2,\"=\", subtract(num1,num2))\n",
    "\n",
    "elif choice == '3':\n",
    "    print(num1,\"*\",num2,\"=\", multiply(num1,num2))\n",
    "\n",
    "elif choice == '4':\n",
    "    print(num1,\"/\",num2,\"=\", divide(num1,num2))\n",
    "else:\n",
    "    print(\"Invalid input\")"
   ]
  },
  {
   "cell_type": "code",
   "execution_count": null,
   "metadata": {},
   "outputs": [],
   "source": [
    "def greet(*names):\n",
    "   \"\"\"This function greets all\n",
    "   the person in the names tuple.\"\"\"\n",
    "\n",
    "   # names is a tuple with arguments\n",
    "   for name in names:\n",
    "       print(\"Hello\",name)\n",
    "\n",
    "greet(\"Monica\",\"Luke\",\"Steve\",\"John\")"
   ]
  },
  {
   "cell_type": "markdown",
   "metadata": {},
   "source": [
    "**Skipping Scope of Variables**"
   ]
  },
  {
   "cell_type": "markdown",
   "metadata": {},
   "source": [
    "## Lambda Functions\n",
    "In Python, **lambda** function is an **anonymous function that is defined without a name.**\n",
    "While normal functions are defined using the def keyword, in these functions are defined using the lambda keyword. We use lambda functions when we require a nameless function for a short period of time."
   ]
  },
  {
   "cell_type": "code",
   "execution_count": null,
   "metadata": {},
   "outputs": [],
   "source": [
    "# lambda functions\n",
    "\n",
    "square = lambda x: x ** 2\n",
    "\n",
    "print(square(5))\n",
    "\n",
    "# works almost the same way as\n",
    "# \n",
    "# def double(x):\n",
    "#    return x * 2\n",
    "\n"
   ]
  },
  {
   "cell_type": "code",
   "execution_count": null,
   "metadata": {},
   "outputs": [],
   "source": [
    "sum = lambda x, y, z: x**2 + y**2 + z**2\n",
    "\n",
    "print(sum(1,2,3))"
   ]
  },
  {
   "cell_type": "markdown",
   "metadata": {},
   "source": [
    "## Built in Functions\n",
    "check out https://docs.python.org/3/library/functions.html"
   ]
  },
  {
   "cell_type": "markdown",
   "metadata": {},
   "source": [
    "We have already seen some of the built in functions without realising that those are functions: "
   ]
  },
  {
   "cell_type": "markdown",
   "metadata": {},
   "source": [
    "**type( ), print( ), input( ), range( ), int( ), float( ), str( ), complex( ), list( ), set( ), tuple( ), dict( ), len( ), format( )**"
   ]
  },
  {
   "cell_type": "markdown",
   "metadata": {},
   "source": [
    "We will look into some new built in functions: **abs( ), round( ), filter( ), map( ), min( ), max( ), sum( ), sorted( ), zip( )** "
   ]
  },
  {
   "cell_type": "code",
   "execution_count": null,
   "metadata": {},
   "outputs": [],
   "source": [
    "#abs\n",
    "x = -10\n",
    "y = -0.3\n",
    "z = 4+3j\n",
    "\n",
    "print(\"abs(x) is \", abs(x))\n",
    "print(\"abs(y) is \", abs(y))\n",
    "print(\"abs(z) is \", abs(z))"
   ]
  },
  {
   "cell_type": "code",
   "execution_count": null,
   "metadata": {},
   "outputs": [],
   "source": [
    "# filter()\n",
    "# The filter() function in Python takes in a function and a list as arguments.\n",
    "# The function is called with all the items in the list and a new list is returned which contains \n",
    "# items for which the function evaluats to True.\n",
    "\n",
    "#print the vowels only\n",
    "# list of alphabets\n",
    "alphabets = ['i', 'i', 't', 'b', 'o', 'm', 'b', 'a', 'y']\n",
    "\n",
    "def Vowels(alphabet):\n",
    "    vowels = ['a', 'e', 'i', 'o', 'u']\n",
    "\n",
    "    if(alphabet in vowels):\n",
    "        return True\n",
    "    else:\n",
    "        return False\n",
    "\n",
    "filteredVowels = filter(Vowels, alphabets)\n",
    "\n",
    "print('The vowels are:')\n",
    "for vowel in filteredVowels:\n",
    "    print(vowel)\n",
    "\n"
   ]
  },
  {
   "cell_type": "code",
   "execution_count": null,
   "metadata": {},
   "outputs": [],
   "source": [
    "# filter()\n",
    "# Program to filter out only the odd items from a list\n",
    "\n",
    "my_list = [1, 2, 3, 5, 4, 6, 8, 11, 3, 12, 16, 19, 21, 22, 24]\n",
    "\n",
    "new_list = list((filter(lambda x: (x%2 == 1) , my_list)))\n",
    "\n",
    "print(new_list)"
   ]
  },
  {
   "cell_type": "code",
   "execution_count": null,
   "metadata": {},
   "outputs": [],
   "source": [
    "# map()\n",
    "\n",
    "# Program to double each item in a list \n",
    "\n",
    "my_list = [1, 2, 3, 5, 4, 6, 8, 11, 3, 12, 16, 19, 21, 22, 24]\n",
    "\n",
    "new_list = list(map(lambda x: x * 2 , my_list))\n",
    "\n",
    "\n",
    "print(new_list)"
   ]
  },
  {
   "cell_type": "code",
   "execution_count": null,
   "metadata": {},
   "outputs": [],
   "source": [
    "# map()\n",
    "list_ = []\n",
    "for i in range(4):\n",
    "    list_.append(input())\n",
    "print(list_)\n",
    "\n",
    "new_list = list(map(int, list_))\n",
    "print(\"new list after map is \", new_list)"
   ]
  },
  {
   "cell_type": "code",
   "execution_count": null,
   "metadata": {},
   "outputs": [],
   "source": [
    "# using max() and min()\n",
    "num = [21, 23, 32, 8, 5, 10, 6]\n",
    "print('Maximum is:', max(num))\n",
    "print('Minimum is:', min(num))"
   ]
  },
  {
   "cell_type": "code",
   "execution_count": null,
   "metadata": {},
   "outputs": [],
   "source": [
    "# max()\n",
    "num = [15, 300, 2700, 821]\n",
    "num1 = [12, 2]\n",
    "num2 = [34, 567,454]\n",
    "\n",
    "# using max(iterable, *iterables, key)\n",
    "print('Maximum is:', max(num, num1, num2, key=len))\n",
    "print('Minimum is:', min(num, num1, num2, key=len))"
   ]
  },
  {
   "cell_type": "code",
   "execution_count": null,
   "metadata": {},
   "outputs": [],
   "source": [
    "#sum\n",
    "numbers = [2.5, 3, 4, -5]\n",
    "\n",
    "numbersSum = sum(numbers)\n",
    "print(numbersSum)\n",
    "\n"
   ]
  },
  {
   "cell_type": "code",
   "execution_count": null,
   "metadata": {},
   "outputs": [],
   "source": [
    "#sorted\n",
    "\n",
    "# vowels list\n",
    "pyList = [4, 3, 6, 7, 9, 12, 3]\n",
    "print(sorted(pyList))\n",
    "\n",
    "# string \n",
    "pyString = 'Python'\n",
    "print(sorted(pyString))"
   ]
  },
  {
   "cell_type": "code",
   "execution_count": null,
   "metadata": {},
   "outputs": [],
   "source": [
    "pySet = {'e', 'a', 'u', 'o', 'i'}\n",
    "print(sorted(pySet, reverse=True))"
   ]
  },
  {
   "cell_type": "code",
   "execution_count": null,
   "metadata": {},
   "outputs": [],
   "source": [
    "# take second element for sort\n",
    "def takeSecond(elem):\n",
    "    return elem[1]\n",
    "\n",
    "\n",
    "list_ = [(2, 2), (3, 4), (4, 1), (1, 3)]\n",
    "\n",
    "# sort list with key\n",
    "sortedList = sorted(random, key=takeSecond)\n",
    "\n",
    "# print list\n",
    "print('Sorted list:', sortedList)"
   ]
  },
  {
   "cell_type": "code",
   "execution_count": null,
   "metadata": {},
   "outputs": [],
   "source": [
    "#zip\n",
    "numbersList = [1, 2, 3]\n",
    "strList = ['one', 'two']\n",
    "numbersTuple = ('ONE', 'TWO', 'THREE', 'FOUR')\n",
    "\n",
    "result = zip(numbersList, numbersTuple)\n",
    "\n",
    "# Converting to set\n",
    "resultSet = set(result)\n",
    "print(resultSet)\n",
    "\n",
    "result = zip(numbersList, strList, numbersTuple)\n",
    "\n",
    "# Converting to set\n",
    "resultSet = set(result)\n",
    "print(resultSet)"
   ]
  },
  {
   "cell_type": "code",
   "execution_count": null,
   "metadata": {},
   "outputs": [],
   "source": []
  }
 ],
 "metadata": {
  "kernelspec": {
   "display_name": "Python 3",
   "language": "python",
   "name": "python3"
  },
  "language_info": {
   "codemirror_mode": {
    "name": "ipython",
    "version": 3
   },
   "file_extension": ".py",
   "mimetype": "text/x-python",
   "name": "python",
   "nbconvert_exporter": "python",
   "pygments_lexer": "ipython3",
   "version": "3.7.0"
  }
 },
 "nbformat": 4,
 "nbformat_minor": 2
}
