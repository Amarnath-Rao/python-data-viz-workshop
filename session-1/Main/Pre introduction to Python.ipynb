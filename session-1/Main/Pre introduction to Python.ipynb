{
 "cells": [
  {
   "cell_type": "markdown",
   "metadata": {},
   "source": [
    "# Pre-introduction to Python\n"
   ]
  },
  {
   "cell_type": "markdown",
   "metadata": {},
   "source": [
    "##### This notebook is for getting your system ready for Python and get a glimse of what is coming. Just get a hang of the notebook interface and  run some simple scripts written below. Feel free to edit the codes and play around.\n",
    "All the codes written here are in Python 3.5, so if you have version > 3.5 things should work fine. To check if the python in your system is running fine run the following line of code. (note: press Shift + Enter to run the code)"
   ]
  },
  {
   "cell_type": "code",
   "execution_count": null,
   "metadata": {},
   "outputs": [],
   "source": [
    "# Press Shift + Enter\n",
    "# You should see a line \"Welcome to the world of Python\"\n",
    "print(\"Welcome to the world of Python\")"
   ]
  },
  {
   "cell_type": "code",
   "execution_count": null,
   "metadata": {},
   "outputs": [],
   "source": [
    "# To check what version of python you are running\n",
    "import sys\n",
    "sys.version"
   ]
  },
  {
   "cell_type": "markdown",
   "metadata": {},
   "source": [
    "So if the above two snippets are running and your python version > 3.5, you are good to go! \n",
    "Now let us see some basic syntax in python programming language.\n",
    "### Statement:"
   ]
  },
  {
   "cell_type": "markdown",
   "metadata": {},
   "source": [
    "Instructions that a Python interpreter can execute are called statements. Like an assignment operator."
   ]
  },
  {
   "cell_type": "code",
   "execution_count": null,
   "metadata": {},
   "outputs": [],
   "source": [
    "a = 1 + 2 + 3\n",
    "print(a)"
   ]
  },
  {
   "cell_type": "code",
   "execution_count": null,
   "metadata": {},
   "outputs": [],
   "source": [
    "# this will give you an error\n",
    "a = 1 + 2 \\\n",
    "    + 3"
   ]
  },
  {
   "cell_type": "code",
   "execution_count": null,
   "metadata": {},
   "outputs": [],
   "source": [
    "# to fix that use '\\' or parenthesis like '()'\n",
    "a = 1 + 2 \\\n",
    "    + 3\n",
    "b = (1 + 2 \n",
    "    + 3)\n",
    "print(a)\n",
    "print(b)"
   ]
  },
  {
   "cell_type": "markdown",
   "metadata": {},
   "source": [
    "### Indentation:\n",
    "Unlike other programming languages Python does not use braces { } to define a block of code. Python uses indentation. Many people use tabs for indentation but generally <b>four whitespaces</b> are preferred over tabs. By default indentation is done in notebook when you press enter."
   ]
  },
  {
   "cell_type": "code",
   "execution_count": null,
   "metadata": {},
   "outputs": [],
   "source": [
    "\n",
    "a = 6\n",
    "if a == 6:\n",
    "    print('Hello')\n",
    "else:\n",
    "    print('oops')"
   ]
  },
  {
   "cell_type": "markdown",
   "metadata": {},
   "source": [
    "### Comments:\n",
    "In Python, we use the hash (#) symbol to start writing a comment."
   ]
  },
  {
   "cell_type": "code",
   "execution_count": null,
   "metadata": {},
   "outputs": [],
   "source": [
    "# This is a comment. This won't run.\n",
    "var = 6\n",
    "print(var)"
   ]
  },
  {
   "cell_type": "code",
   "execution_count": null,
   "metadata": {},
   "outputs": [],
   "source": [
    "# This is a multi line\n",
    "# comment. But there is a better \n",
    "# way.\n",
    "\n",
    "\"\"\"Triple quotes can be used\n",
    "as multi-line comment just like this\"\"\"\n",
    "print(5)"
   ]
  },
  {
   "cell_type": "markdown",
   "metadata": {},
   "source": [
    "### Variables:\n",
    "In Python, variables do not need declaration to reserve memory space. As you might have already seen in the earlier examples the variable declaration happens automatically when we assign a value to a variable. Python is a type inferred language, it can automatically infer if a variable is a int or float or a string. Let us see an example:"
   ]
  },
  {
   "cell_type": "code",
   "execution_count": null,
   "metadata": {},
   "outputs": [],
   "source": [
    "num_1 = 5\n",
    "num_2 = 6.0\n",
    "num_3 = 5 + 5j\n",
    "item = \"Python\"\n",
    "\n",
    "print(type(num_1))\n",
    "print(type(num_2))\n",
    "print(type(num_3))\n",
    "print(type(item))"
   ]
  },
  {
   "cell_type": "markdown",
   "metadata": {},
   "source": [
    "Major Data Types in Python are Numbers, List, Tuple, Strings, Set, Dictionary. We will only see how Lists work for now. Rest would be discussed in the workshop."
   ]
  },
  {
   "cell_type": "markdown",
   "metadata": {},
   "source": [
    "### List: \n",
    "It is an ordered sequence of items. It is one of the most used datatype in Python and is very flexible. It is like an array in C/C++ but here all the items in a list do not need to be of the same type.\n",
    "Declaring a list is pretty straight forward."
   ]
  },
  {
   "cell_type": "code",
   "execution_count": null,
   "metadata": {},
   "outputs": [],
   "source": [
    "first_list = [0, 1, 1, 2, 3, 5, 8]\n",
    "type(first_list)"
   ]
  },
  {
   "cell_type": "code",
   "execution_count": null,
   "metadata": {},
   "outputs": [],
   "source": [
    "# Gives the first item of a list.\n",
    "first_list[0]"
   ]
  },
  {
   "cell_type": "code",
   "execution_count": null,
   "metadata": {},
   "outputs": [],
   "source": [
    "# Gives the length of a list\n",
    "len(first_list)"
   ]
  },
  {
   "cell_type": "code",
   "execution_count": null,
   "metadata": {},
   "outputs": [],
   "source": [
    "second_list = [0, 1.2, 'it works fine']"
   ]
  },
  {
   "cell_type": "code",
   "execution_count": null,
   "metadata": {},
   "outputs": [],
   "source": [
    "second_list[2]"
   ]
  },
  {
   "cell_type": "markdown",
   "metadata": {},
   "source": [
    "Let us end this here with an easter egg:"
   ]
  },
  {
   "cell_type": "code",
   "execution_count": null,
   "metadata": {},
   "outputs": [],
   "source": [
    "import this"
   ]
  },
  {
   "cell_type": "code",
   "execution_count": null,
   "metadata": {},
   "outputs": [],
   "source": []
  }
 ],
 "metadata": {
  "kernelspec": {
   "display_name": "Python 3",
   "language": "python",
   "name": "python3"
  },
  "language_info": {
   "codemirror_mode": {
    "name": "ipython",
    "version": 3
   },
   "file_extension": ".py",
   "mimetype": "text/x-python",
   "name": "python",
   "nbconvert_exporter": "python",
   "pygments_lexer": "ipython3",
   "version": "3.7.0"
  }
 },
 "nbformat": 4,
 "nbformat_minor": 2
}
